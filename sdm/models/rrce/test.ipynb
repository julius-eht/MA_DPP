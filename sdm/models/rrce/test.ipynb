{
 "cells": [
  {
   "cell_type": "code",
   "execution_count": 5,
   "id": "72aa6140",
   "metadata": {},
   "outputs": [],
   "source": [
    "import json\n",
    "import os\n",
    "import sys\n",
    "from pathlib import Path\n",
    "\n",
    "#---------------------------------------------------------------------------\n",
    "# This part is only needed to import the sdm module from the parent directory\n",
    "current_dir = Path(os.getcwd())\n",
    "parent_dir = current_dir.parents[2] # path to SMM4FZI_.. dir\n",
    "sys.path.append(os.path.abspath(parent_dir))\n",
    "#---------------------------------------------------------------------------\n",
    "\n",
    "from sdm.models.sdm_reference_model import ReferenceModel\n",
    "from sdm.adapters.reference_model_adapters import rrce_adapter\n",
    "\n",
    "ref_model_file = f\"{parent_dir}/examples/demo_use_case/data/reference_model_data\"\n",
    "with open(f\"{ref_model_file}.json\", \"r\") as file:\n",
    "    data = json.load(file)\n",
    "\n",
    "ref_model = ReferenceModel.from_dict(data)\n",
    "rrce_model = rrce_adapter.transform_reference_model_to_rrce(ref_model)\n",
    "\n",
    "#client = RrceClient(backend_url)\n",
    "#rrce_model_optimized = client.optimize_layout(rrce_model)\n",
    "\n",
    "# for now we just set some random values\n",
    "resources = rrce_model.resources\n",
    "for counter, res in enumerate(resources):\n",
    "    res.position = [counter, counter+3, counter+5]\n",
    "    res.orientation = [0.5, 1, 0.7]\n",
    "\n",
    "new_ref_model = rrce_adapter.update_reference_model_with_rrce_data(rrce_model, ref_model)\n",
    "\n",
    "with open(f\"{ref_model_file}_rrce_optimized.json\", \"w\") as file:\n",
    "    file.write(new_ref_model.json())"
   ]
  }
 ],
 "metadata": {
  "kernelspec": {
   "display_name": "Python 3",
   "language": "python",
   "name": "python3"
  },
  "language_info": {
   "codemirror_mode": {
    "name": "ipython",
    "version": 3
   },
   "file_extension": ".py",
   "mimetype": "text/x-python",
   "name": "python",
   "nbconvert_exporter": "python",
   "pygments_lexer": "ipython3",
   "version": "3.11.7"
  },
  "vscode": {
   "interpreter": {
    "hash": "fde3f5d107223a959d91df111b6fc04baa03d46b009177b8592b74b28a4e5de6"
   }
  }
 },
 "nbformat": 4,
 "nbformat_minor": 5
}
